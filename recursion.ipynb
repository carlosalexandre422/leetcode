{
 "cells": [
  {
   "cell_type": "markdown",
   "metadata": {},
   "source": [
    "# 779. K-th Symbol in Grammar\n",
    "## Time and Space complexity: O(n)"
   ]
  },
  {
   "cell_type": "code",
   "execution_count": 28,
   "metadata": {},
   "outputs": [],
   "source": [
    "def kthGrammar(n,k):\n",
    "    if n == 1: return 0\n",
    "    l = 2**(n-1)\n",
    "    half = l//2\n",
    "    if k <= half:\n",
    "        return int(kthGrammar(n-1, k))\n",
    "    else:\n",
    "        return int(not kthGrammar(n-1, k-half))\n"
   ]
  },
  {
   "cell_type": "markdown",
   "metadata": {},
   "source": [
    "# 1823. Find the Winner of the Circular Game\n",
    "## Time complexity: O(n^2) | Space Complexity: O(n)"
   ]
  },
  {
   "cell_type": "code",
   "execution_count": 55,
   "metadata": {},
   "outputs": [],
   "source": [
    "def findTheWinner(n,k):\n",
    "    arr = [i+1 for i in range(n)]\n",
    "    def winner(arr, start):\n",
    "        if len(arr) == 1: return arr[0]\n",
    "        remove = (start + k-1)%len(arr)\n",
    "        del arr[remove]\n",
    "        return winner(arr, remove)\n",
    "    return winner(arr, 0)"
   ]
  },
  {
   "cell_type": "markdown",
   "metadata": {},
   "source": [
    "# 1823. Find the Winner of the Circular Game\n",
    "## Time complexity: O(n) | Space Complexity: O(n)"
   ]
  },
  {
   "cell_type": "code",
   "execution_count": 64,
   "metadata": {},
   "outputs": [],
   "source": [
    "def findTheWinner(n,k):\n",
    "    def helper(n,k):\n",
    "        if n==1: return 0\n",
    "        else:\n",
    "            return (helper(n-1,k)+k)%n\n",
    "    return helper(n,k)+1"
   ]
  },
  {
   "cell_type": "markdown",
   "metadata": {},
   "source": [
    "# 1823. Find the Winner of the Circular Game\n",
    "## Time complexity: O(n^2) | Space Complexity: O(1)"
   ]
  },
  {
   "cell_type": "code",
   "execution_count": 62,
   "metadata": {},
   "outputs": [],
   "source": [
    "def findTheWinner(n,k):\n",
    "    survivor = 0\n",
    "    for i in range(2,n+1):\n",
    "        survivor = (survivor+k)%i\n",
    "    return survivor + 1"
   ]
  }
 ],
 "metadata": {
  "kernelspec": {
   "display_name": "Python 3",
   "language": "python",
   "name": "python3"
  },
  "language_info": {
   "codemirror_mode": {
    "name": "ipython",
    "version": 3
   },
   "file_extension": ".py",
   "mimetype": "text/x-python",
   "name": "python",
   "nbconvert_exporter": "python",
   "pygments_lexer": "ipython3",
   "version": "3.11.9"
  }
 },
 "nbformat": 4,
 "nbformat_minor": 2
}
