{
 "cells": [
  {
   "cell_type": "markdown",
   "metadata": {},
   "source": [
    "# 779. K-th Symbol in Grammar\n",
    "## Time and Space complexity: O(n)"
   ]
  },
  {
   "cell_type": "code",
   "execution_count": 28,
   "metadata": {},
   "outputs": [],
   "source": [
    "def kth_symbol(n,k):\n",
    "    if n == 1: return 0\n",
    "    l = 2**(n-1)\n",
    "    half = l//2\n",
    "    if k <= half:\n",
    "        return int(kth_symbol(n-1, k))\n",
    "    else:\n",
    "        return int(not kth_symbol(n-1, k-half))\n"
   ]
  }
 ],
 "metadata": {
  "kernelspec": {
   "display_name": "Python 3",
   "language": "python",
   "name": "python3"
  },
  "language_info": {
   "codemirror_mode": {
    "name": "ipython",
    "version": 3
   },
   "file_extension": ".py",
   "mimetype": "text/x-python",
   "name": "python",
   "nbconvert_exporter": "python",
   "pygments_lexer": "ipython3",
   "version": "3.11.9"
  }
 },
 "nbformat": 4,
 "nbformat_minor": 2
}
