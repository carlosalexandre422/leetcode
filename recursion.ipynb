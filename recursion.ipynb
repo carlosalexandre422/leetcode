{
 "cells": [
  {
   "cell_type": "markdown",
   "metadata": {},
   "source": [
    "# 779. K-th Symbol in Grammar\n",
    "## Time and Space complexity: O(n)"
   ]
  },
  {
   "cell_type": "code",
   "execution_count": 28,
   "metadata": {},
   "outputs": [],
   "source": [
    "def kthGrammar(n,k):\n",
    "    if n == 1: return 0\n",
    "    l = 2**(n-1)\n",
    "    half = l//2\n",
    "    if k <= half:\n",
    "        return int(kthGrammar(n-1, k))\n",
    "    else:\n",
    "        return int(not kthGrammar(n-1, k-half))\n"
   ]
  },
  {
   "cell_type": "markdown",
   "metadata": {},
   "source": [
    "# 1823. Find the Winner of the Circular Game\n",
    "## Time complexity: O(n^2) | Space Complexity: O(n)"
   ]
  },
  {
   "cell_type": "code",
   "execution_count": 55,
   "metadata": {},
   "outputs": [],
   "source": [
    "def findTheWinner(n,k):\n",
    "    arr = [i+1 for i in range(n)]\n",
    "    def winner(arr, start):\n",
    "        if len(arr) == 1: return arr[0]\n",
    "        remove = (start + k-1)%len(arr)\n",
    "        del arr[remove]\n",
    "        return winner(arr, remove)\n",
    "    return winner(arr, 0)"
   ]
  },
  {
   "cell_type": "markdown",
   "metadata": {},
   "source": [
    "# 1823. Find the Winner of the Circular Game\n",
    "## Time complexity: O(n) | Space Complexity: O(n)"
   ]
  },
  {
   "cell_type": "code",
   "execution_count": 64,
   "metadata": {},
   "outputs": [],
   "source": [
    "def findTheWinner(n,k):\n",
    "    def helper(n,k):\n",
    "        if n==1: return 0\n",
    "        else:\n",
    "            return (helper(n-1,k)+k)%n\n",
    "    return helper(n,k)+1"
   ]
  },
  {
   "cell_type": "markdown",
   "metadata": {},
   "source": [
    "# 1823. Find the Winner of the Circular Game\n",
    "## Time complexity: O(n^2) | Space Complexity: O(1)"
   ]
  },
  {
   "cell_type": "code",
   "execution_count": 62,
   "metadata": {},
   "outputs": [],
   "source": [
    "def findTheWinner(n,k):\n",
    "    survivor = 0\n",
    "    for i in range(2,n+1):\n",
    "        survivor = (survivor+k)%i\n",
    "    return survivor + 1"
   ]
  },
  {
   "cell_type": "markdown",
   "metadata": {},
   "source": [
    "# Tower of Hanoi: \n",
    "\n",
    "We have three rods and N disks. The objective of the puzzle is to move the entire stack to another rod. Initially, these discs are in the rod 1. You need to print all the steps of discs movement so that all the discs reach the 3rd rod. Also, find & return the total moves.\n",
    "\n",
    "Note: The discs are arranged such that the top disc is numbered 1 and the bottom-most disc is numbered N. Also, all the discs have different sizes and a bigger disc cannot be put on the top of a smaller disc. You can only move 1 disk at a time.\n",
    "\n",
    "### Time Complexity: O(2^n)\n",
    "### Space Complexity: O(n)"
   ]
  },
  {
   "cell_type": "code",
   "execution_count": null,
   "metadata": {},
   "outputs": [],
   "source": [
    "def toh(N, fromm, to, aux):\n",
    "    count = 0\n",
    "    def helper(N,fromm,to,aux):\n",
    "        nonlocal count\n",
    "        if N==1:\n",
    "            count+=1\n",
    "            print(\"move disk \" + str(N) + \" from rod \" + str(fromm) + \" to rod \" + str(to))\n",
    "            return\n",
    "        helper(N-1,fromm,aux,to)\n",
    "        count+=1\n",
    "        print(\"move disk \" + str(N) + \" from rod \" + str(fromm) + \" to rod \" + str(to))\n",
    "\n",
    "        helper(N-1,aux,to,fromm)\n",
    "    helper(N,fromm,to,aux)  \n",
    "    return count\n"
   ]
  },
  {
   "cell_type": "markdown",
   "metadata": {},
   "source": [
    "# Power Sum: \n",
    "\n",
    "Let’s define a peculiar type of array in which each element is either an integer or another peculiar array. Assume that a peculiar array is never empty. Write a function that will take a peculiar array as its input and find the sum of its elements. If an array is an element in the peculiar array you have to convert it to it’s equivalent value so that you can sum it with the other elements. Equivalent value of an array is the sum of its elements raised to the number which represents how far nested it is. For e.g. [2,3[4,1,2]] = 2+3+ (4+1+2)^2\n",
    "\n",
    "[1,2,[7,[3,4],2]] = 1 + 2 +( 7+(3+4)^3+2)^2\n",
    "\n",
    "### Time complexity: O(N) -> N is the total number os elements(main array and subarrays included)\n",
    "### Space complexity: O(d) -> d is the maximum number of brackets\n",
    "\n"
   ]
  },
  {
   "cell_type": "code",
   "execution_count": 66,
   "metadata": {},
   "outputs": [
    {
     "data": {
      "text/plain": [
       "67"
      ]
     },
     "execution_count": 66,
     "metadata": {},
     "output_type": "execute_result"
    }
   ],
   "source": [
    "def sumpow(arr, power=1):\n",
    "    sum=0\n",
    "    for i in arr:\n",
    "        if type(i) == list:\n",
    "            sum += sumpow(i, power+1)\n",
    "        else:\n",
    "            sum+=i\n",
    "    return sum**power\n"
   ]
  }
 ],
 "metadata": {
  "kernelspec": {
   "display_name": "Python 3",
   "language": "python",
   "name": "python3"
  },
  "language_info": {
   "codemirror_mode": {
    "name": "ipython",
    "version": 3
   },
   "file_extension": ".py",
   "mimetype": "text/x-python",
   "name": "python",
   "nbconvert_exporter": "python",
   "pygments_lexer": "ipython3",
   "version": "3.11.9"
  }
 },
 "nbformat": 4,
 "nbformat_minor": 2
}
