{
 "cells": [
  {
   "cell_type": "markdown",
   "metadata": {},
   "source": [
    "# 50. Pow(x, n)"
   ]
  },
  {
   "cell_type": "code",
   "execution_count": 1,
   "metadata": {},
   "outputs": [],
   "source": [
    "def pow(x,n):\n",
    "    if x>0: return x**n\n",
    "    elif x<0: return 1/(x**(-n))"
   ]
  },
  {
   "cell_type": "code",
   "execution_count": 19,
   "metadata": {},
   "outputs": [],
   "source": [
    "def removeDuplicates(nums):\n",
    "    arr = []\n",
    "    p1, p2 = 0,0\n",
    "    while p2 <= len(nums)-1:\n",
    "        if nums[p1]==nums[p2]:\n",
    "            p2+=1\n",
    "        else:\n",
    "            nums.insert(len(nums)-1, nums.pop(p2-1))\n",
    "            p1 = p2\n",
    "    arr.append(nums[len(nums)-1])\n",
    "    nums = arr\n",
    "    return len(nums)\n"
   ]
  },
  {
   "cell_type": "code",
   "execution_count": 34,
   "metadata": {},
   "outputs": [
    {
     "name": "stdout",
     "output_type": "stream",
     "text": [
      "[1, 2, 3, 4, 5]\n",
      "[1, 3, 4, 5]\n"
     ]
    }
   ],
   "source": [
    "a = [1,2,3,4,5]\n",
    "print(a)\n",
    "\n",
    "a.pop(1)\n",
    "print(a)"
   ]
  },
  {
   "cell_type": "code",
   "execution_count": 2,
   "metadata": {},
   "outputs": [
    {
     "name": "stdout",
     "output_type": "stream",
     "text": [
      "0.09391435011269719\n"
     ]
    }
   ],
   "source": [
    "print(pow(2.2,-3))"
   ]
  },
  {
   "cell_type": "code",
   "execution_count": 42,
   "metadata": {},
   "outputs": [],
   "source": [
    "def fib(num):\n",
    "    if num<=1: return num\n",
    "    return fib(num-2)+fib(num-1)"
   ]
  },
  {
   "cell_type": "code",
   "execution_count": 78,
   "metadata": {},
   "outputs": [],
   "source": [
    "def fibo(n):\n",
    "    arr = [0,1]\n",
    "    def helper(n):\n",
    "        if n<=1: \n",
    "            return arr[n]\n",
    "        return helper(n-2)+helper(n-1)\n",
    "    arr.append(helper(n))\n",
    "    return arr"
   ]
  }
 ],
 "metadata": {
  "kernelspec": {
   "display_name": "Python 3",
   "language": "python",
   "name": "python3"
  },
  "language_info": {
   "codemirror_mode": {
    "name": "ipython",
    "version": 3
   },
   "file_extension": ".py",
   "mimetype": "text/x-python",
   "name": "python",
   "nbconvert_exporter": "python",
   "pygments_lexer": "ipython3",
   "version": "3.11.9"
  }
 },
 "nbformat": 4,
 "nbformat_minor": 2
}
