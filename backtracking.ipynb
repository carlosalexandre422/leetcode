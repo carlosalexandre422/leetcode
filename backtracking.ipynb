{
 "cells": [
  {
   "cell_type": "markdown",
   "metadata": {},
   "source": [
    "# 46. Permutations\n",
    "### T = O(n*n!) and S = O(n)"
   ]
  },
  {
   "cell_type": "code",
   "execution_count": 2,
   "metadata": {},
   "outputs": [],
   "source": [
    "def permute(nums):\n",
    "    n = len(nums)\n",
    "    res = []\n",
    "    def helper(index):\n",
    "        if index == n-1:                                # Base condition\n",
    "            res.append(nums[:])\n",
    "            return\n",
    "        for j in range(index, n):                       # Recursive \n",
    "            nums[index], nums[j] = nums[j], nums[index]\n",
    "            helper(index+1)\n",
    "            nums[index], nums[j] = nums[j], nums[index] # backtracking\n",
    "    helper(0)\n",
    "    return res\n",
    "\n"
   ]
  },
  {
   "cell_type": "code",
   "execution_count": 5,
   "metadata": {},
   "outputs": [],
   "source": [
    "def permuteUnique(nums):\n",
    "    n = len(nums)\n",
    "    res = []\n",
    "    def helper(index):\n",
    "        if nums not in res:\n",
    "            if index == n-1:                                # Base condition\n",
    "                res.append(nums[:])\n",
    "                return\n",
    "            for j in range(index, n):                       # Recursive \n",
    "                nums[index], nums[j] = nums[j], nums[index]\n",
    "                helper(index+1)\n",
    "                nums[index], nums[j] = nums[j], nums[index] # backtracking\n",
    "    helper(0)\n",
    "    return res\n",
    "\n"
   ]
  },
  {
   "cell_type": "code",
   "execution_count": 6,
   "metadata": {},
   "outputs": [
    {
     "data": {
      "text/plain": [
       "[[3, 3, 3]]"
      ]
     },
     "execution_count": 6,
     "metadata": {},
     "output_type": "execute_result"
    }
   ],
   "source": [
    "permuteUnique([3,3,3])"
   ]
  },
  {
   "cell_type": "code",
   "execution_count": 7,
   "metadata": {},
   "outputs": [],
   "source": [
    "def permute(nums):\n",
    "    n = len(nums)\n",
    "    res = {}\n",
    "    def helper(index):\n",
    "        if index == n-1:                                # Base condition\n",
    "            res.add(nums[:])\n",
    "            return\n",
    "        for j in range(index, n):                       # Recursive \n",
    "            nums[index], nums[j] = nums[j], nums[index]\n",
    "            helper(index+1)\n",
    "            nums[index], nums[j] = nums[j], nums[index] # backtracking\n",
    "    helper(0)\n",
    "    return res\n"
   ]
  },
  {
   "cell_type": "markdown",
   "metadata": {},
   "source": [
    "# 78. Subsets\n",
    "### T = O(2^n * n/2) | S = O(2^n * n/2) \n"
   ]
  },
  {
   "cell_type": "code",
   "execution_count": 8,
   "metadata": {},
   "outputs": [],
   "source": [
    "def subsets(nums):\n",
    "    result = []\n",
    "    def helper(nums, i, subset):\n",
    "        if i == len(nums):\n",
    "            result.append(subset.copy())\n",
    "            return\n",
    "        helper(nums, i+1, subset)\n",
    "        subset.append(nums[i])\n",
    "        helper(nums, i+1, subset)\n",
    "        subset.pop()\n",
    "    helper(nums, 0, [])\n",
    "    return result\n"
   ]
  },
  {
   "cell_type": "code",
   "execution_count": 10,
   "metadata": {},
   "outputs": [
    {
     "data": {
      "text/plain": [
       "[[], [3], [2], [2, 3], [1], [1, 3], [1, 2], [1, 2, 3]]"
      ]
     },
     "execution_count": 10,
     "metadata": {},
     "output_type": "execute_result"
    }
   ],
   "source": [
    "subsets([1,2,3])"
   ]
  }
 ],
 "metadata": {
  "kernelspec": {
   "display_name": "Python 3",
   "language": "python",
   "name": "python3"
  },
  "language_info": {
   "codemirror_mode": {
    "name": "ipython",
    "version": 3
   },
   "file_extension": ".py",
   "mimetype": "text/x-python",
   "name": "python",
   "nbconvert_exporter": "python",
   "pygments_lexer": "ipython3",
   "version": "3.11.9"
  }
 },
 "nbformat": 4,
 "nbformat_minor": 2
}
