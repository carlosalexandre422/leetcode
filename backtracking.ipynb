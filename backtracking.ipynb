{
 "cells": [
  {
   "cell_type": "markdown",
   "metadata": {},
   "source": [
    "# 46. Permutations\n",
    "### T = O(n*n!) and S = O(n)"
   ]
  },
  {
   "cell_type": "code",
   "execution_count": 1,
   "metadata": {},
   "outputs": [],
   "source": [
    "def permute(nums):\n",
    "    n = len(nums)\n",
    "    res = []\n",
    "    def helper(index):\n",
    "        if index == n-1:                                # Base condition\n",
    "            res.append(nums[:])\n",
    "            return\n",
    "        for j in range(index, n):                       # Recursive \n",
    "            nums[index], nums[j] = nums[j], nums[index]\n",
    "            helper(index+1)\n",
    "            nums[index], nums[j] = nums[j], nums[index] # backtracking\n",
    "    helper(0)\n",
    "    return res\n",
    "\n"
   ]
  }
 ],
 "metadata": {
  "kernelspec": {
   "display_name": "Python 3",
   "language": "python",
   "name": "python3"
  },
  "language_info": {
   "codemirror_mode": {
    "name": "ipython",
    "version": 3
   },
   "file_extension": ".py",
   "mimetype": "text/x-python",
   "name": "python",
   "nbconvert_exporter": "python",
   "pygments_lexer": "ipython3",
   "version": "3.11.9"
  }
 },
 "nbformat": 4,
 "nbformat_minor": 2
}
